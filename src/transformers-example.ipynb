{
 "cells": [
  {
   "cell_type": "code",
   "execution_count": 1,
   "id": "strong-threat",
   "metadata": {},
   "outputs": [],
   "source": [
    "from transformers import pipeline"
   ]
  },
  {
   "cell_type": "code",
   "execution_count": 2,
   "id": "guided-straight",
   "metadata": {},
   "outputs": [],
   "source": [
    "classifier = pipeline('question-answering')"
   ]
  },
  {
   "cell_type": "code",
   "execution_count": 16,
   "id": "circular-parks",
   "metadata": {},
   "outputs": [
    {
     "name": "stdout",
     "output_type": "stream",
     "text": [
      "[{'score': 0.3400667607784271, 'start': 27, 'end': 40, 'answer': 'multinational'}, {'score': 0.27595868706703186, 'start': 27, 'end': 51, 'answer': 'multinational technology'}, {'score': 0.2257061004638672, 'start': 27, 'end': 59, 'answer': 'multinational technology company'}, {'score': 0.03247448801994324, 'start': 18, 'end': 40, 'answer': 'American multinational'}, {'score': 0.026352522894740105, 'start': 18, 'end': 51, 'answer': 'American multinational technology'}]\n"
     ]
    }
   ],
   "source": [
    "context = 'Google, LLC is an American multinational technology company that specializes in Internet-related services and products, which include online advertising technologies, a search engine, cloud computing, software, and hardware. Google corporate headquarters located at Mountain View, California, United States.'\n",
    "question = 'What kind of company is Google?'\n",
    "# targets = ['technology','evil','multinational technology','American']\n",
    "results = classifier(\n",
    "    context=context,\n",
    "    question=question,\n",
    "    topk=5,\n",
    "           )\n",
    "\n",
    "print(results)"
   ]
  },
  {
   "cell_type": "code",
   "execution_count": null,
   "id": "fluid-antenna",
   "metadata": {},
   "outputs": [],
   "source": []
  }
 ],
 "metadata": {
  "kernelspec": {
   "display_name": "Python 3",
   "language": "python",
   "name": "python3"
  },
  "language_info": {
   "codemirror_mode": {
    "name": "ipython",
    "version": 3
   },
   "file_extension": ".py",
   "mimetype": "text/x-python",
   "name": "python",
   "nbconvert_exporter": "python",
   "pygments_lexer": "ipython3",
   "version": "3.9.3"
  }
 },
 "nbformat": 4,
 "nbformat_minor": 5
}
