{
 "cells": [
  {
   "cell_type": "code",
   "execution_count": 23,
   "id": "strong-threat",
   "metadata": {},
   "outputs": [],
   "source": [
    "from transformers import pipeline\n",
    "from transformers import AutoTokenizer\n",
    "from transformers import AutoModelForQuestionAnswering"
   ]
  },
  {
   "cell_type": "code",
   "execution_count": 32,
   "id": "guided-straight",
   "metadata": {},
   "outputs": [
    {
     "data": {
      "application/vnd.jupyter.widget-view+json": {
       "model_id": "2181107529434932aee046bd3f023bfa",
       "version_major": 2,
       "version_minor": 0
      },
      "text/plain": [
       "Downloading:   0%|          | 0.00/411 [00:00<?, ?B/s]"
      ]
     },
     "metadata": {},
     "output_type": "display_data"
    },
    {
     "data": {
      "application/vnd.jupyter.widget-view+json": {
       "model_id": "404626bfdf684d0fa739ed83e8d13075",
       "version_major": 2,
       "version_minor": 0
      },
      "text/plain": [
       "Downloading:   0%|          | 0.00/263M [00:00<?, ?B/s]"
      ]
     },
     "metadata": {},
     "output_type": "display_data"
    },
    {
     "name": "stderr",
     "output_type": "stream",
     "text": [
      "Some weights of the model checkpoint at distilbert-base-cased were not used when initializing DistilBertForQuestionAnswering: ['vocab_transform.weight', 'vocab_transform.bias', 'vocab_layer_norm.weight', 'vocab_layer_norm.bias', 'vocab_projector.weight', 'vocab_projector.bias']\n",
      "- This IS expected if you are initializing DistilBertForQuestionAnswering from the checkpoint of a model trained on another task or with another architecture (e.g. initializing a BertForSequenceClassification model from a BertForPreTraining model).\n",
      "- This IS NOT expected if you are initializing DistilBertForQuestionAnswering from the checkpoint of a model that you expect to be exactly identical (initializing a BertForSequenceClassification model from a BertForSequenceClassification model).\n",
      "Some weights of DistilBertForQuestionAnswering were not initialized from the model checkpoint at distilbert-base-cased and are newly initialized: ['qa_outputs.weight', 'qa_outputs.bias']\n",
      "You should probably TRAIN this model on a down-stream task to be able to use it for predictions and inference.\n"
     ]
    }
   ],
   "source": [
    "tokenizer = AutoTokenizer.from_pretrained(\"distilbert-base-cased\")\n",
    "models = ['DistilBertForQuestionAnswering', 'AlbertForQuestionAnswering', 'CamembertForQuestionAnswering', 'BartForQuestionAnswering', 'LongformerForQuestionAnswering', 'XLMRobertaForQuestionAnswering', 'RobertaForQuestionAnswering', 'SqueezeBertForQuestionAnswering', 'BertForQuestionAnswering', 'XLNetForQuestionAnsweringSimple', 'FlaubertForQuestionAnsweringSimple', 'MobileBertForQuestionAnswering', 'XLMForQuestionAnsweringSimple', 'ElectraForQuestionAnswering', 'ReformerForQuestionAnswering', 'FunnelForQuestionAnswering', 'LxmertForQuestionAnswering', 'MPNetForQuestionAnswering']\n",
    "model = AutoModelForQuestionAnswering.from_pretrained(\"distilbert-base-cased\")\n",
    "classifier = pipeline('question-answering',tokenizer=tokenizer,model=model)"
   ]
  },
  {
   "cell_type": "code",
   "execution_count": 33,
   "id": "circular-parks",
   "metadata": {},
   "outputs": [
    {
     "name": "stdout",
     "output_type": "stream",
     "text": [
      "[{'score': 0.0006566840456798673, 'start': 190, 'end': 214, 'answer': 'computing, software, and'}, {'score': 0.0006199268391355872, 'start': 60, 'end': 76, 'answer': 'that specializes'}, {'score': 0.0005942528368905187, 'start': 201, 'end': 214, 'answer': 'software, and'}, {'score': 0.0005895417416468263, 'start': 169, 'end': 214, 'answer': 'search engine, cloud computing, software, and'}, {'score': 0.0005887768347747624, 'start': 176, 'end': 214, 'answer': 'engine, cloud computing, software, and'}, {'score': 0.0005881235119886696, 'start': 153, 'end': 214, 'answer': 'technologies, a search engine, cloud computing, software, and'}, {'score': 0.0005788695416413248, 'start': 97, 'end': 125, 'answer': 'services and products, which'}, {'score': 0.0005681203911080956, 'start': 60, 'end': 64, 'answer': 'that'}, {'score': 0.0005629691877402365, 'start': 52, 'end': 76, 'answer': 'company that specializes'}, {'score': 0.000556193117517978, 'start': 12, 'end': 76, 'answer': 'is an American multinational technology company that specializes'}]\n"
     ]
    }
   ],
   "source": [
    "context = 'Google, LLC is an American multinational technology company that specializes in Internet-related services and products, which include online advertising technologies, a search engine, cloud computing, software, and hardware. Google corporate headquarters located at Mountain View, California, United States.'\n",
    "question = 'What is Google doing?'\n",
    "# targets = ['technology','evil','multinational technology','American']\n",
    "results = classifier(\n",
    "    context=context,\n",
    "    question=question,\n",
    "    topk=10,\n",
    "           )\n",
    "\n",
    "print(results)"
   ]
  },
  {
   "cell_type": "code",
   "execution_count": null,
   "id": "occasional-tissue",
   "metadata": {},
   "outputs": [],
   "source": []
  }
 ],
 "metadata": {
  "kernelspec": {
   "display_name": "Python 3",
   "language": "python",
   "name": "python3"
  },
  "language_info": {
   "codemirror_mode": {
    "name": "ipython",
    "version": 3
   },
   "file_extension": ".py",
   "mimetype": "text/x-python",
   "name": "python",
   "nbconvert_exporter": "python",
   "pygments_lexer": "ipython3",
   "version": "3.9.3"
  }
 },
 "nbformat": 4,
 "nbformat_minor": 5
}
